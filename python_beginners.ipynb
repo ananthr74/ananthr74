{
  "nbformat": 4,
  "nbformat_minor": 0,
  "metadata": {
    "colab": {
      "provenance": [],
      "collapsed_sections": [],
      "authorship_tag": "ABX9TyO9ev30QfuNvfwnJW3f55hv",
      "include_colab_link": true
    },
    "kernelspec": {
      "name": "python3",
      "display_name": "Python 3"
    },
    "language_info": {
      "name": "python"
    }
  },
  "cells": [
    {
      "cell_type": "markdown",
      "metadata": {
        "id": "view-in-github",
        "colab_type": "text"
      },
      "source": [
        "<a href=\"https://colab.research.google.com/github/ananthr74/ananthr74/blob/main/python_beginners.ipynb\" target=\"_parent\"><img src=\"https://colab.research.google.com/assets/colab-badge.svg\" alt=\"Open In Colab\"/></a>"
      ]
    },
    {
      "cell_type": "code",
      "execution_count": 10,
      "metadata": {
        "colab": {
          "base_uri": "https://localhost:8080/"
        },
        "id": "OlyEM4g5IiUx",
        "outputId": "30420361-fb9c-4e9a-bb56-d8a379e49cc8"
      },
      "outputs": [
        {
          "output_type": "stream",
          "name": "stdout",
          "text": [
            "Enter temperature in Celsius...36.9\n",
            "Entered temperature in Celcius is :  36.9\n",
            "Temperature  36.9  Degree Celsius in Farenhite is  98.42\n"
          ]
        }
      ],
      "source": [
        "# Introduction Sessions Sep End\n",
        "# Celsius to Fahrenhite\n",
        "c = float(input(\"Enter temperature in Celsius...\"))\n",
        "print(\"Entered temperature in Celcius is : \", c)\n",
        "f = 9/5 * c + 32\n",
        "print(\"Temperature \", c, \" Degree Celsius in Farenhite is \", f)"
      ]
    },
    {
      "cell_type": "code",
      "source": [],
      "metadata": {
        "id": "ofnOqwdeKvfh"
      },
      "execution_count": null,
      "outputs": []
    }
  ]
}